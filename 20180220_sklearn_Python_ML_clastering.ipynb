{
 "cells": [
  {
   "cell_type": "markdown",
   "metadata": {},
   "source": [
    "# ラベルなしのデータ分析- クラスタ分析\n",
    "参 考\n",
    "* S.Raschka Python機械学習プログラミング\n",
    "\n",
    "教師なし学習法に属するクラスタリングについて見ていく。ここでは\n",
    "* [プロトタイプベースクラスタリング]k-means法\n",
    "* [階層的クラスタリング]階層的クラスタ木をボトムアップ方式で構築\n",
    "* [密度ベースクラスタリング]密度に基づくクラスタリングアプローチによってオブジェクトの任意の形状を識別\n",
    "\n",
    "をみていく。"
   ]
  },
  {
   "cell_type": "markdown",
   "metadata": {},
   "source": [
    "## k-means法\n",
    "類似したオブジェクトをグループにまとめることが可能。また、他のクラスタリングアルゴリズムに比べて計算効率が良い。<p>\n",
    "k-means法は**プロトタイプベースクラスタリング**に属す。これは、各クラスタがプロトタイプによって表されることを意味する。プロトタイプは**セントロイド**(特徴量が連続値の場合に類似する点の中心を表す)か**メドイド**(特徴量がカテゴリ値の場合に最も代表的or最も頻度が高い点を表す)のどちらかになる。<p>\n",
    "k-means法が最も効果的なのは「球状or円状クラスタの識別」である。一方、欠点は*クラスタの個数kを指定しなければならない*ことで、これが不適切の場合クラスタリング性能が落ちる。なお、クラスタリング性能の評価に役立つ**エルボー法**と**シルエット図**というものもある。"
   ]
  },
  {
   "cell_type": "code",
   "execution_count": 32,
   "metadata": {},
   "outputs": [
    {
     "data": {
      "image/png": "[encoded data removed]",
      "text/plain": [
       "<matplotlib.figure.Figure at 0x11d142c88>"
      ]
     },
     "metadata": {},
     "output_type": "display_data"
    }
   ],
   "source": [
    "from sklearn.datasets import make_blobs\n",
    "import matplotlib.pyplot as plt\n",
    "\n",
    "x, y = make_blobs(n_samples = 150,\n",
    "                  n_features = 2,\n",
    "                  centers = 3,\n",
    "                  cluster_std = 0.5,\n",
    "                  shuffle = True,\n",
    "                  random_state = 0)\n",
    "plt.scatter(x[:,0], x[:,1], c='blue', marker='o', s=50)\n",
    "plt.grid()\n",
    "plt.show()"
   ]
  },
  {
   "cell_type": "markdown",
   "metadata": {},
   "source": [
    "ここで作成したデータを、k-means法を用いてクラスタリングしていく。\n",
    "\n",
    "k-means法のステップは次の4つである。\n",
    "1. クラスタの中心の初期値として、サンプル点からk個のセントロイドをランダムに選ぶ。\n",
    "1. 各サンプルを最も近いセントロイド$\\mu^{(i)}$に割り当てる。$$\\mu^{(i)},\\ j\\in\\{1,\\dots,k\\}$$\n",
    "1. セントロイドに割り当てられたサンプルの中心にセントロイドを移動する\n",
    "1. サンプル点へのクラスタの割り当てが変化しなくなるか、ユーザー定義の許容値またはイテレーションの最大回数に達するまでステップ2-3を繰り返す"
   ]
  },
  {
   "cell_type": "markdown",
   "metadata": {},
   "source": [
    "#### *オブジェクトの類似度を測定するにはどうすればいいか？*\n",
    "\n",
    "類似度を「距離が離れていないこと」として定義する。連続値の特徴量を持つサンプルのクラスタリングにおいてよく使われる距離は**ユークリッド距離の２乗**で、例えばm次元空間の場合\n",
    "$$d(x,y)^2 = \\displaystyle\\sum_{j=1}^m(x_j-y_j)^2=||x-y||^2$$\n",
    "以下、$i$:サンプルのインデックス、$j$:クラスタのインデックスとする。\n",
    "\n",
    "オブジェクトの類似性を図る指標としてユークリッド距離を用いて、単純な最適化問題としてのk-means法を説明する。**クラスタ内誤差平方和(SSE)**(クラスタの慣性)を反復的に最小化するという単純な最適化問題を取りあげる。$$SSE=\\displaystyle\\sum_{i=1}^n\\sum_{j=1}^kw^{(i,j)}||x^{(i)}-\\mu^{(j)}||^2_2$$\n",
    "但し、$\\mu^{(j)}$：クラスタjのセントロイドであり、サンプル点$x^{i}$がクラスタ内に存在する場合$w^{(i,j)}=1$、存在しないときは0である。"
   ]
  },
  {
   "cell_type": "code",
   "execution_count": 21,
   "metadata": {
    "collapsed": true
   },
   "outputs": [],
   "source": [
    "from sklearn.cluster import KMeans\n",
    "km = KMeans(n_clusters = 3,\n",
    "            init = 'random', #セントロイドの初期値をランダム選択\n",
    "            n_init = 10, #異なるセントロイド初期値を用いたk-meansの実行回数\n",
    "            max_iter = 300, #k-means内部のmaxイテレーション回数\n",
    "            tol = 1e-04, #収束判定を出す許容誤差\n",
    "            random_state = 0)\n",
    "y_km = km.fit_predict(x)"
   ]
  },
  {
   "cell_type": "markdown",
   "metadata": {},
   "source": [
    "### k-means++法\n",
    "初期のセントロイドを互いに離れた位置に配置することにより、従来のk-means法より効果的な、より一貫性のある結果を得られる。\n",
    "\n",
    "1. 選択対象となるk個のセントロイドを格納するために、空のデータセット$M$を初期化する。\n",
    "1. 入力サンプルから初期のセントロイド$\\mu^{(j)}$をランダムに選択し、$M$に割り当てる。\n",
    "1. $M$に含まれていないサンプル$x^{(i)}$ごとに$M$のセントロイドに対して距離$d(x^{(i)},M)$の2乗が最小となるようなセントロイドを求める。\n",
    "1. 次のセントロイド$\\mu^{(p)}$をランダムに選択するには、各サンプルの距離の重みを等しくした以下の確率分布を使用する。$$\\dfrac{d(\\mu^{(p)},M)^2}{\\displaystyle\\sum_id(x^{(i)},M)^2}$$\n",
    "1. k個のセントロイドが選択されるまでステップ3-4を繰り返す\n",
    "1. 従来のk-means法を使って引き続き処理を行う。"
   ]
  },
  {
   "cell_type": "code",
   "execution_count": 22,
   "metadata": {},
   "outputs": [
    {
     "data": {
      "image/png": "[encoded data removed]",
      "text/plain": [
       "<matplotlib.figure.Figure at 0x11d07d7f0>"
      ]
     },
     "metadata": {},
     "output_type": "display_data"
    }
   ],
   "source": [
    "plt.scatter(x[y_km == 0, 0],\n",
    "            x[y_km == 0, 1],\n",
    "            s = 50,\n",
    "            c = 'lightgreen',\n",
    "            marker = 's',\n",
    "            label = 'cluster 1')\n",
    "\n",
    "plt.scatter(x[y_km == 1, 0],\n",
    "            x[y_km == 1, 1],\n",
    "            s = 50,\n",
    "            c = 'orange',\n",
    "            marker = 'o',\n",
    "            label = 'cluster 2')\n",
    "\n",
    "plt.scatter(x[y_km == 2, 0],\n",
    "            x[y_km == 2, 1],\n",
    "            s = 50,\n",
    "            c = 'lightblue',\n",
    "            marker = 'v',\n",
    "            label = 'cluster 3')\n",
    "\n",
    "plt.scatter(km.cluster_centers_[:,0],\n",
    "            km.cluster_centers_[:,1],\n",
    "            s = 250,\n",
    "            marker = '*',\n",
    "            c = 'red',\n",
    "            label = 'centroids')\n",
    "\n",
    "plt.legend()\n",
    "plt.grid()\n",
    "plt.show()"
   ]
  },
  {
   "cell_type": "markdown",
   "metadata": {},
   "source": [
    "### エルボー法を使ってクラスタの最適な個数を求める\n",
    "教師なし学習の主な課題 ==> 明確な答えがわからない。<p>\n",
    "クラスタリングの性能を数値化するには、SSEのような指標を用いて、さまざまなk-meansクラスタリングの性能を比較する必要がある。KMeansモデルを適合した後は、inertia_属性を通じてこの値にアクセスすることができる。"
   ]
  },
  {
   "cell_type": "code",
   "execution_count": 23,
   "metadata": {},
   "outputs": [
    {
     "name": "stdout",
     "output_type": "stream",
     "text": [
      "Distortion: 72.48\n"
     ]
    }
   ],
   "source": [
    "print('Distortion: %.2f' % km.inertia_)"
   ]
  },
  {
   "cell_type": "markdown",
   "metadata": {},
   "source": [
    "このクラスタ内SSE(歪み)に基づき、エルボー法と呼ばれる図解によってタスクに最適なクラスタ数kを推定できる。直観的には、kの値が増えると歪みが減る。これは、サンプルがその割り当て先となるセントロイドに近くなるからである。エルボー法の考え方としては、SSEが最も急速に増え始めるkの値を特定する、というものである。kの値を変えていきながらSSEをプロットしていけば、これがどういうことかわかる。"
   ]
  },
  {
   "cell_type": "code",
   "execution_count": 25,
   "metadata": {},
   "outputs": [
    {
     "data": {
      "image/png": "[encoded data removed]",
      "text/plain": [
       "<matplotlib.figure.Figure at 0x11d06fc18>"
      ]
     },
     "metadata": {},
     "output_type": "display_data"
    }
   ],
   "source": [
    "distortions = []\n",
    "for i in range(1,11):\n",
    "    km = KMeans(n_clusters = i,\n",
    "                init = 'k-means++',\n",
    "                n_init = 10,\n",
    "                max_iter = 300,\n",
    "                random_state = 0)\n",
    "    km.fit(x)\n",
    "    distortions.append(km.inertia_)\n",
    "\n",
    "plt.plot(range(1,11), distortions, marker='o')\n",
    "plt.xlabel('Number of cluster')\n",
    "plt.ylabel('Distortion')\n",
    "plt.show()"
   ]
  },
  {
   "cell_type": "markdown",
   "metadata": {},
   "source": [
    "エルボー(ひじ)になってる部分はk=3だね。よって、k=3が一番よさげ。"
   ]
  },
  {
   "cell_type": "markdown",
   "metadata": {},
   "source": [
    "### シルエット図を使ってクラスタリングの性能を数値化\n",
    "シルエット分析は、k-means以外のクラスタリングアルゴリズムでも利用可能。シルエット分析では、クラスタ内のサンプルがどの程度密にグループ化されているかの目安となるグラフをプロットできる。データセットの単一のサンプルについてシルエット係数を計算するには\n",
    "1. サンプル$x^{(i)}$と同じクラスタ内のその他のすべてのサンプルとの平均距離として、クラスタの凝集度$\\alpha^{(i)}$を計算\n",
    "2. サンプル$x^{(i)}$と最も近くにあるクラスタ内のすべてのサンプルとの平均距離として、その次に近いクラスタからの乖離度$b^{(i)}$を計算\n",
    "3. クラスタの凝集度と乖離度の差を、それらのうち大きい方の値で割り、シルエット係数$s^{(i)}$を計算$$s^{(i)}=\\dfrac{b^{(i)}-a^{(i)}}{\\max{\\{a^{(i)},b^{(i)}}\\}}$$\n",
    "を適用すればよい。以下、metricモジュールのsilhouette_samplesを用いて算出をする。"
   ]
  },
  {
   "cell_type": "code",
   "execution_count": 50,
   "metadata": {},
   "outputs": [
    {
     "data": {
      "image/png": "[encoded data removed]",
      "text/plain": [
       "<matplotlib.figure.Figure at 0x11df50ac8>"
      ]
     },
     "metadata": {},
     "output_type": "display_data"
    }
   ],
   "source": [
    "import numpy as np\n",
    "from matplotlib import cm\n",
    "from sklearn.metrics import silhouette_samples\n",
    "\n",
    "km = KMeans(n_clusters = 3,\n",
    "            init = 'k-means++',\n",
    "            n_init = 10,\n",
    "            max_iter = 300,\n",
    "            tol = 1e-04,\n",
    "            random_state = 0)\n",
    "y_km = km.fit_predict(x)\n",
    "\n",
    "cluster_labels = np.unique(y_km)\n",
    "n_clusters = cluster_labels.shape[0]\n",
    "\n",
    "silhouette_vals = silhouette_samples(x, y_km, metric = 'euclidean')\n",
    "y_ax_lower, y_ax_upper = 0, 0\n",
    "yticks = []\n",
    "\n",
    "for i , c in enumerate(cluster_labels):\n",
    "    c_silhouette_vals = silhouette_vals[y_km == c]\n",
    "    c_silhouette_vals.sort()\n",
    "    y_ax_upper += len(c_silhouette_vals)\n",
    "    color = cm.jet(float(i)/n_clusters)     #色の値をセット\n",
    "    plt.barh(range(y_ax_lower, y_ax_upper), #水平の棒グラフを描画するよ\n",
    "             c_silhouette_vals,             #棒の幅\n",
    "             height = 1.0,                  #棒の高さ\n",
    "             edgecolor = 'none',\n",
    "             color = color)\n",
    "    yticks.append((y_ax_lower + y_ax_upper)/2)  #クラスタラベルの表示位置追加\n",
    "    y_ax_lower += len(c_silhouette_vals)        #底辺の値に棒の幅を追加\n",
    "\n",
    "silhouette_avg = np.mean(silhouette_vals)\n",
    "plt.axvline(silhouette_avg, color='red', linestyle=\"--\") #係数の平均値に破線\n",
    "plt.yticks(yticks, cluster_labels + 1) #ラベル表示\n",
    "plt.ylabel('Cluster')\n",
    "plt.xlabel('Silhouette coefficient')\n",
    "plt.show()"
   ]
  },
  {
   "cell_type": "markdown",
   "metadata": {
    "collapsed": true
   },
   "source": [
    "この図では、３つがだいたい同じ幅になった。これが、一つがやたら大きいときや小さいときは、最適なクラスタリングになっていないので、kの変更が必要、という判断になる。今回はうまくいっている。"
   ]
  },
  {
   "cell_type": "markdown",
   "metadata": {},
   "source": [
    "## クラスタを階層木として構成\n",
    "階層的クラスタリングの利点：樹形図をプロットできる、クラスタ数を事前に指定しなくてよい。\n",
    "\n",
    "階層的クラスタリングには２つある。\n",
    "* 分割型：すべてのサンプルを包含する１つのクラスタを定義し、すべてのクラスタにサンプルが１つだけ含まれた状態になるまでクラスタをより小さなクラスタに分割していく。\n",
    "* 凝集型：個々のサンプルを１つのクラスタとして扱い、クラスタが１つだけ残った状態になるまで、最も近くにある２つのクラスタをマージしていく。凝集型階層的クラスタリングには、標準アルゴリズムとして２つある。\n",
    "    * 単連結法：クラスタのペアごとに最も類似度が「高い」メンバーどうしの距離を計算し、最も類似度の高いメンバーどうしの距離が最小になるような方法で２つのクラスタをマージする\n",
    "    * 完全連結法：クラスタのペアごとに最も類似度の「低い」メンバーどうしの距離を計算し、最も類似度の低いメンバーどうしの距離が最小になるような方法で２つのクラスタをマージする\n",
    "    \n",
    "\n",
    "完全連結法による凝集型階層的クラスタリングのステップ\n",
    "1. 全サンプルの距離行列を計算する。\n",
    "1. 各データ点を単一のクラスタとみなして表現する\n",
    "1. 最も類似度の低い、つまり最も離れたメンバーの距離に基づいて２つの最も近いクラスタをマージする\n",
    "1. 距離行列を更新\n",
    "1. クラスタが１つだけのこた状態になるまでステップ3-4を繰り返す"
   ]
  },
  {
   "cell_type": "markdown",
   "metadata": {},
   "source": [
    "##### サンプルデータの作成"
   ]
  },
  {
   "cell_type": "code",
   "execution_count": 5,
   "metadata": {},
   "outputs": [
    {
     "data": {
      "text/html": [
       "<div>\n",
       "<style scoped>\n",
       "    .dataframe tbody tr th:only-of-type {\n",
       "        vertical-align: middle;\n",
       "    }\n",
       "\n",
       "    .dataframe tbody tr th {\n",
       "        vertical-align: top;\n",
       "    }\n",
       "\n",
       "    .dataframe thead th {\n",
       "        text-align: right;\n",
       "    }\n",
       "</style>\n",
       "<table border=\"1\" class=\"dataframe\">\n",
       "  <thead>\n",
       "    <tr style=\"text-align: right;\">\n",
       "      <th></th>\n",
       "      <th>x</th>\n",
       "      <th>y</th>\n",
       "      <th>z</th>\n",
       "    </tr>\n",
       "  </thead>\n",
       "  <tbody>\n",
       "    <tr>\n",
       "      <th>ID_0</th>\n",
       "      <td>6.964692</td>\n",
       "      <td>2.861393</td>\n",
       "      <td>2.268515</td>\n",
       "    </tr>\n",
       "    <tr>\n",
       "      <th>ID_1</th>\n",
       "      <td>5.513148</td>\n",
       "      <td>7.194690</td>\n",
       "      <td>4.231065</td>\n",
       "    </tr>\n",
       "    <tr>\n",
       "      <th>ID_2</th>\n",
       "      <td>9.807642</td>\n",
       "      <td>6.848297</td>\n",
       "      <td>4.809319</td>\n",
       "    </tr>\n",
       "    <tr>\n",
       "      <th>ID_3</th>\n",
       "      <td>3.921175</td>\n",
       "      <td>3.431780</td>\n",
       "      <td>7.290497</td>\n",
       "    </tr>\n",
       "    <tr>\n",
       "      <th>ID_4</th>\n",
       "      <td>4.385722</td>\n",
       "      <td>0.596779</td>\n",
       "      <td>3.980443</td>\n",
       "    </tr>\n",
       "  </tbody>\n",
       "</table>\n",
       "</div>"
      ],
      "text/plain": [
       "             x         y         z\n",
       "ID_0  6.964692  2.861393  2.268515\n",
       "ID_1  5.513148  7.194690  4.231065\n",
       "ID_2  9.807642  6.848297  4.809319\n",
       "ID_3  3.921175  3.431780  7.290497\n",
       "ID_4  4.385722  0.596779  3.980443"
      ]
     },
     "execution_count": 5,
     "metadata": {},
     "output_type": "execute_result"
    }
   ],
   "source": [
    "import pandas as pd\n",
    "import numpy as np\n",
    "np.random.seed(123)\n",
    "variables = ['x','y','z']\n",
    "labels = ['ID_0','ID_1','ID_2','ID_3','ID_4']\n",
    "x = np.random.random_sample([5,3])*10  #サンプルデータの作成\n",
    "df = pd.DataFrame(x, columns = variables, index = labels)\n",
    "df"
   ]
  },
  {
   "cell_type": "markdown",
   "metadata": {},
   "source": [
    "pandas：インデックス付けに便利。上のような表形式に加工するオブジェクトDataFrameは強い。\n",
    "\n",
    "Scipy：科学計算領域での一般的な問題に取り組めるパッケージ群。数学的処理に強い。\n",
    "\n",
    "##### 距離行列の計算"
   ]
  },
  {
   "cell_type": "code",
   "execution_count": 7,
   "metadata": {},
   "outputs": [
    {
     "data": {
      "text/html": [
       "<div>\n",
       "<style scoped>\n",
       "    .dataframe tbody tr th:only-of-type {\n",
       "        vertical-align: middle;\n",
       "    }\n",
       "\n",
       "    .dataframe tbody tr th {\n",
       "        vertical-align: top;\n",
       "    }\n",
       "\n",
       "    .dataframe thead th {\n",
       "        text-align: right;\n",
       "    }\n",
       "</style>\n",
       "<table border=\"1\" class=\"dataframe\">\n",
       "  <thead>\n",
       "    <tr style=\"text-align: right;\">\n",
       "      <th></th>\n",
       "      <th>ID_0</th>\n",
       "      <th>ID_1</th>\n",
       "      <th>ID_2</th>\n",
       "      <th>ID_3</th>\n",
       "      <th>ID_4</th>\n",
       "    </tr>\n",
       "  </thead>\n",
       "  <tbody>\n",
       "    <tr>\n",
       "      <th>ID_0</th>\n",
       "      <td>0.000000</td>\n",
       "      <td>4.973534</td>\n",
       "      <td>5.516653</td>\n",
       "      <td>5.899885</td>\n",
       "      <td>3.835396</td>\n",
       "    </tr>\n",
       "    <tr>\n",
       "      <th>ID_1</th>\n",
       "      <td>4.973534</td>\n",
       "      <td>0.000000</td>\n",
       "      <td>4.347073</td>\n",
       "      <td>5.104311</td>\n",
       "      <td>6.698233</td>\n",
       "    </tr>\n",
       "    <tr>\n",
       "      <th>ID_2</th>\n",
       "      <td>5.516653</td>\n",
       "      <td>4.347073</td>\n",
       "      <td>0.000000</td>\n",
       "      <td>7.244262</td>\n",
       "      <td>8.316594</td>\n",
       "    </tr>\n",
       "    <tr>\n",
       "      <th>ID_3</th>\n",
       "      <td>5.899885</td>\n",
       "      <td>5.104311</td>\n",
       "      <td>7.244262</td>\n",
       "      <td>0.000000</td>\n",
       "      <td>4.382864</td>\n",
       "    </tr>\n",
       "    <tr>\n",
       "      <th>ID_4</th>\n",
       "      <td>3.835396</td>\n",
       "      <td>6.698233</td>\n",
       "      <td>8.316594</td>\n",
       "      <td>4.382864</td>\n",
       "      <td>0.000000</td>\n",
       "    </tr>\n",
       "  </tbody>\n",
       "</table>\n",
       "</div>"
      ],
      "text/plain": [
       "          ID_0      ID_1      ID_2      ID_3      ID_4\n",
       "ID_0  0.000000  4.973534  5.516653  5.899885  3.835396\n",
       "ID_1  4.973534  0.000000  4.347073  5.104311  6.698233\n",
       "ID_2  5.516653  4.347073  0.000000  7.244262  8.316594\n",
       "ID_3  5.899885  5.104311  7.244262  0.000000  4.382864\n",
       "ID_4  3.835396  6.698233  8.316594  4.382864  0.000000"
      ]
     },
     "execution_count": 7,
     "metadata": {},
     "output_type": "execute_result"
    }
   ],
   "source": [
    "from scipy.spatial.distance import pdist, squareform\n",
    "#pdist: 距離を計算、 squareform:対称行列を作成\n",
    "row_dist = pd.DataFrame(squareform(pdist(df, metric='euclidean')),\n",
    "                        columns = labels, index = labels)\n",
    "row_dist"
   ]
  },
  {
   "cell_type": "markdown",
   "metadata": {},
   "source": [
    "##### 単純連結法による凝集型階層的クラスタリングを適用"
   ]
  },
  {
   "cell_type": "code",
   "execution_count": 8,
   "metadata": {
    "collapsed": true
   },
   "outputs": [],
   "source": [
    "from scipy.cluster.hierarchy import linkage\n",
    "row_clusters = linkage(pdist(df, metric = 'euclidean'), method='complete') #method:連結アルゴリズムの指定[completeは最遠点アルゴリズム]"
   ]
  },
  {
   "cell_type": "code",
   "execution_count": 9,
   "metadata": {
    "collapsed": true
   },
   "outputs": [],
   "source": [
    "#こっちでも可\n",
    "row_clusters = linkage(df.values, method='complete',metric='euclidean')"
   ]
  },
  {
   "cell_type": "code",
   "execution_count": 12,
   "metadata": {},
   "outputs": [
    {
     "data": {
      "text/plain": [
       "array([ 4.973534  ,  5.51665266,  5.89988504,  3.83539555,  4.34707339,\n",
       "        5.10431109,  6.69823298,  7.24426159,  8.31659367,  4.382864  ])"
      ]
     },
     "execution_count": 12,
     "metadata": {},
     "output_type": "execute_result"
    }
   ],
   "source": [
    "pdist(df, metric = 'euclidean')"
   ]
  },
  {
   "cell_type": "code",
   "execution_count": 14,
   "metadata": {},
   "outputs": [
    {
     "data": {
      "text/html": [
       "<div>\n",
       "<style scoped>\n",
       "    .dataframe tbody tr th:only-of-type {\n",
       "        vertical-align: middle;\n",
       "    }\n",
       "\n",
       "    .dataframe tbody tr th {\n",
       "        vertical-align: top;\n",
       "    }\n",
       "\n",
       "    .dataframe thead th {\n",
       "        text-align: right;\n",
       "    }\n",
       "</style>\n",
       "<table border=\"1\" class=\"dataframe\">\n",
       "  <thead>\n",
       "    <tr style=\"text-align: right;\">\n",
       "      <th></th>\n",
       "      <th>row label 1</th>\n",
       "      <th>row label 2</th>\n",
       "      <th>distance</th>\n",
       "      <th>no. of items in clust.</th>\n",
       "    </tr>\n",
       "  </thead>\n",
       "  <tbody>\n",
       "    <tr>\n",
       "      <th>cluster 1</th>\n",
       "      <td>0.0</td>\n",
       "      <td>4.0</td>\n",
       "      <td>3.835396</td>\n",
       "      <td>2.0</td>\n",
       "    </tr>\n",
       "    <tr>\n",
       "      <th>cluster 2</th>\n",
       "      <td>1.0</td>\n",
       "      <td>2.0</td>\n",
       "      <td>4.347073</td>\n",
       "      <td>2.0</td>\n",
       "    </tr>\n",
       "    <tr>\n",
       "      <th>cluster 3</th>\n",
       "      <td>3.0</td>\n",
       "      <td>5.0</td>\n",
       "      <td>5.899885</td>\n",
       "      <td>3.0</td>\n",
       "    </tr>\n",
       "    <tr>\n",
       "      <th>cluster 4</th>\n",
       "      <td>6.0</td>\n",
       "      <td>7.0</td>\n",
       "      <td>8.316594</td>\n",
       "      <td>5.0</td>\n",
       "    </tr>\n",
       "  </tbody>\n",
       "</table>\n",
       "</div>"
      ],
      "text/plain": [
       "           row label 1  row label 2  distance  no. of items in clust.\n",
       "cluster 1          0.0          4.0  3.835396                     2.0\n",
       "cluster 2          1.0          2.0  4.347073                     2.0\n",
       "cluster 3          3.0          5.0  5.899885                     3.0\n",
       "cluster 4          6.0          7.0  8.316594                     5.0"
      ]
     },
     "execution_count": 14,
     "metadata": {},
     "output_type": "execute_result"
    }
   ],
   "source": [
    "pd.DataFrame(row_clusters,\n",
    "             columns = ['row label 1',\n",
    "                        'row label 2',\n",
    "                        'distance',\n",
    "                        'no. of items in clust.'],\n",
    "             index = ['cluster %d' %(i+1) for i in range(row_clusters.shape[0])])"
   ]
  },
  {
   "cell_type": "markdown",
   "metadata": {},
   "source": [
    "##### この結果の読み方\n",
    "* １、２行目：各クラスタ内で最も類似度の低いメンバー\n",
    "* ３行目：それらのメンバーの距離\n",
    "* ４行目：各クラスタのメンバーの個数\n",
    "\n",
    "##### 結果を樹形図で表示"
   ]
  },
  {
   "cell_type": "code",
   "execution_count": 18,
   "metadata": {},
   "outputs": [
    {
     "data": {
      "image/png": "[encoded data removed]",
      "text/plain": [
       "<matplotlib.figure.Figure at 0x10c5b04e0>"
      ]
     },
     "metadata": {},
     "output_type": "display_data"
    }
   ],
   "source": [
    "from scipy.cluster.hierarchy import dendrogram\n",
    "import matplotlib.pyplot as plt\n",
    "\n",
    "row_dendr=dendrogram(row_clusters,\n",
    "                      labels = labels)\n",
    "\n",
    "plt.ylabel('Euclidean Distance')\n",
    "plt.show()"
   ]
  },
  {
   "cell_type": "markdown",
   "metadata": {},
   "source": [
    "ID_0とID_4が最も類似度の高いサンプル。その次はID_1とID_2が類似度高い。ということが視覚的にわかりやすい。"
   ]
  },
  {
   "cell_type": "markdown",
   "metadata": {},
   "source": [
    "#### 樹形図をヒートマップと組み合わせる\n",
    "実際に使うときは、樹形図とヒートマップの組み合わせで使用される。これによって、サンプルとする行列の個々の値をカラーコードで表せるようになる。"
   ]
  },
  {
   "cell_type": "code",
   "execution_count": 26,
   "metadata": {},
   "outputs": [
    {
     "data": {
      "image/png": "[encoded data removed]",
      "text/plain": [
       "<matplotlib.figure.Figure at 0x10ff08748>"
      ]
     },
     "metadata": {},
     "output_type": "display_data"
    }
   ],
   "source": [
    "fig = plt.figure(figsize=(8,8), facecolor='white')\n",
    "#樹形図の軸の位置、幅、高さを定義する\n",
    "axd = fig.add_axes([0.09,0.1,0.2,0.6])\n",
    "#樹形図を反時計回り90度回転\n",
    "row_dendr = dendrogram(row_clusters, orientation='right')\n",
    "\n",
    "#クラスタリングのラベルに従って、最初のDataFrameのデータを並び替える。クラスタリングのラベルにアクセスするにはキーとしてleavesを用いる\n",
    "df_rowclust = df.iloc[row_dendr['leaves'][::-1]]\n",
    "\n",
    "#並び替えたDataFrameを使ってヒートマップ作成、樹形図の横に配置\n",
    "axm = fig.add_axes([0.23,0.1,0.6,0.6])\n",
    "cax = axm.matshow(df_rowclust, interpolation='nearest', cmap='hot_r')\n",
    "\n",
    "#軸の目盛除去、軸非表示、カラーバー追加、ラベル追加\n",
    "axd.set_xticks([])\n",
    "axd.set_yticks([])\n",
    "for i in axd.spines.values():\n",
    "    i.set_visible(False)\n",
    "\n",
    "fig.colorbar(cax)\n",
    "axm.set_xticklabels([''] + list(df_rowclust.columns))\n",
    "axm.set_yticklabels([''] + list(df_rowclust.index))\n",
    "plt.show()"
   ]
  },
  {
   "cell_type": "markdown",
   "metadata": {},
   "source": [
    "### sklearn を使ってもできる\n",
    "Scikit-learnを使ってもできるが、これが役立つのは取得したいクラスタ数を選択できることから階層クラスタ木の剪定を行うとき。上の例のデータを用いて例えばクラスタ数２にしてみる。"
   ]
  },
  {
   "cell_type": "code",
   "execution_count": 28,
   "metadata": {},
   "outputs": [
    {
     "name": "stdout",
     "output_type": "stream",
     "text": [
      "cluster labels: [0 1 1 0 0]\n"
     ]
    }
   ],
   "source": [
    "from sklearn.cluster import AgglomerativeClustering\n",
    "ac = AgglomerativeClustering(n_clusters = 2,\n",
    "                            affinity = 'euclidean',\n",
    "                            linkage = 'complete')\n",
    "labels = ac.fit_predict(x)\n",
    "print('cluster labels: %s' % labels)"
   ]
  },
  {
   "cell_type": "markdown",
   "metadata": {},
   "source": [
    "ID_1,2が同じクラスタで、0,3,4が他のクラスタという風になった。たしかに。"
   ]
  },
  {
   "cell_type": "markdown",
   "metadata": {},
   "source": [
    "## DBSCAN ー密度ベースクラスタリング\n",
    "DBSCANはDentisy-based Spatial Clustering of Applications with Noiseの略である。ここでのDentisyは指定された半径$\\varepsilon$以内の点の個数として定義される。DBSCANでは以下のようにして各サンプルに特別なラベルが割り当てられる\n",
    "* 指定された半径$\\varepsilon$以内に少なくとも指定された個数[MinPts]の隣接点があるような点は**コア点**とみなされる\n",
    "* 半径$\\varepsilon$以内の隣接点の個数がMinPtsに満たないものの、コア点の半径$\\varepsilon$以内に位置するような点はボーダー点とみなされる\n",
    "* コア点でもボーダー点でもないその他の点はすべてノイズ点とみなされる\n",
    "\n",
    "アルゴリズムは次のような感じ\n",
    "1. コア点ごとに(またはコア点の接続関係に基づいて)、別々のクラスタを形成する。コア点どうしが接続関係を持つのは、それらが$\\varepsilon$より離れていない場合である\n",
    "1. 各ボーダー点をそれと対になっているコア点のクラスタに割り当てる\n",
    "\n",
    "DBSCANの良いところは\n",
    "* k-means法のようにクラスタが円形であることを仮定していない\n",
    "* 点をそれぞれクラスタに割り当てる必要がない\n",
    "* ノイズ点を除去する能力がある"
   ]
  },
  {
   "cell_type": "markdown",
   "metadata": {},
   "source": [
    "### 変な形のデータで３種のクラスタリングを比較"
   ]
  },
  {
   "cell_type": "code",
   "execution_count": 34,
   "metadata": {},
   "outputs": [
    {
     "data": {
      "image/png": "[encoded data removed]",
      "text/plain": [
       "<matplotlib.figure.Figure at 0x1120696a0>"
      ]
     },
     "metadata": {},
     "output_type": "display_data"
    }
   ],
   "source": [
    "from sklearn.datasets import make_moons\n",
    "x ,y = make_moons(n_samples = 200,\n",
    "                  noise = 0.05,\n",
    "                  random_state = 0)\n",
    "plt.scatter(x[:,0],x[:,1])\n",
    "plt.show()"
   ]
  },
  {
   "cell_type": "code",
   "execution_count": 44,
   "metadata": {},
   "outputs": [
    {
     "data": {
      "image/png": "[encoded data removed]",
      "text/plain": [
       "<matplotlib.figure.Figure at 0x112d22c88>"
      ]
     },
     "metadata": {},
     "output_type": "display_data"
    }
   ],
   "source": [
    "import matplotlib.pyplot as plt\n",
    "from sklearn.cluster import KMeans\n",
    "from sklearn.cluster import AgglomerativeClustering\n",
    "from sklearn.cluster import DBSCAN\n",
    "\n",
    "#データをそれぞれに与えとくよ\n",
    "f, (ax_k, ax_s, ax_d) = plt.subplots(1,3,figsize=(8,3))\n",
    "\n",
    "#k-means法\n",
    "km = KMeans(n_clusters = 2,\n",
    "            random_state = 0)\n",
    "y_km = km.fit_predict(x)\n",
    "ax_k.scatter(x[y_km==0,0],\n",
    "             x[y_km==0,1],\n",
    "             c = 'lightblue',\n",
    "             marker = 'o',\n",
    "             s = 40,\n",
    "             label = 'cluster 1')\n",
    "ax_k.scatter(x[y_km==1,0],\n",
    "             x[y_km==1,1],\n",
    "             c = 'red',\n",
    "             marker='s',\n",
    "             s = 40,\n",
    "             label = 'cluster 2')\n",
    "ax_k.set_title('K-means clustering')\n",
    "\n",
    "#凝集型階層的クラスタリング\n",
    "ac = AgglomerativeClustering(n_clusters = 2,\n",
    "                             affinity = 'euclidean',\n",
    "                             linkage = 'complete')\n",
    "y_ac = ac.fit_predict(x)\n",
    "ax_s.scatter(x[y_ac==0,0],\n",
    "             x[y_ac==0,1],\n",
    "             c = 'lightblue',\n",
    "             marker = 'o',\n",
    "             s = 40,\n",
    "             label = 'cluster 1')\n",
    "ax_s.scatter(x[y_ac==1,0],\n",
    "             x[y_ac==1,1],\n",
    "             c = 'red',\n",
    "             marker='s',\n",
    "             s = 40,\n",
    "             label = 'cluster 2')\n",
    "ax_s.set_title('Agglomerative Clustering')\n",
    "\n",
    "#DBSCAN\n",
    "db = DBSCAN(eps = 0.2,\n",
    "            min_samples = 5,\n",
    "            metric = 'euclidean')\n",
    "y_db = db.fit_predict(x)\n",
    "ax_d.scatter(x[y_db==0,0],\n",
    "             x[y_db==0,1],\n",
    "             c = 'lightblue',\n",
    "             marker = 'o',\n",
    "             s = 40,\n",
    "             label = 'cluster 1')\n",
    "ax_d.scatter(x[y_db==1,0],\n",
    "             x[y_db==1,1],\n",
    "             c = 'red',\n",
    "             marker='s',\n",
    "             s = 40,\n",
    "             label = 'cluster 2')\n",
    "ax_d.set_title('DBSCAN')\n",
    "\n",
    "\n",
    "plt.legend()\n",
    "plt.show()"
   ]
  },
  {
   "cell_type": "markdown",
   "metadata": {},
   "source": [
    "DBSCANの特長：任意の形状をもつデータのクラスタリングができている様子がよくわかった。\n",
    "\n",
    "DBSCANの欠点：トレーニングデータセットのサイズが固定ならば、データセットの特徴量の個数が増えるに従って、次元の呪いのネガティブな影響が強まる。とくにEuclid距離を指標にしている場合は要注意。また、効果を最大化するには、ハイパーパラメータ$MinPts,\\varepsilon$を最適化する必要がある。データセットの密度の違いが比較的大きい場合、最適か組み合わせの発見は難しい場合もある。"
   ]
  },
  {
   "cell_type": "code",
   "execution_count": null,
   "metadata": {
    "collapsed": true
   },
   "outputs": [],
   "source": []
  }
 ],
 "metadata": {
  "kernelspec": {
   "display_name": "Python 3",
   "language": "python",
   "name": "python3"
  },
  "language_info": {
   "codemirror_mode": {
    "name": "ipython",
    "version": 3
   },
   "file_extension": ".py",
   "mimetype": "text/x-python",
   "name": "python",
   "nbconvert_exporter": "python",
   "pygments_lexer": "ipython3",
   "version": "3.6.2"
  }
 },
 "nbformat": 4,
 "nbformat_minor": 2
}
